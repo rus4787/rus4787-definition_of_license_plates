{
 "cells": [
  {
   "cell_type": "markdown",
   "id": "10f67972-ea2a-4580-adb8-f1f5a1c4a44f",
   "metadata": {},
   "source": [
    "# definition_of_license_plates"
   ]
  },
  {
   "cell_type": "code",
   "execution_count": null,
   "id": "79ed5b82-43dd-4d3f-952a-e64c05af63ac",
   "metadata": {},
   "outputs": [],
   "source": [
    "# Connect libraries\n",
    "import gdown\n",
    "import os\n",
    "!rm -rf sample_data\n",
    "!rm -rf my_yolov5\n",
    "# Install the TerraYoloTest framework\n",
    "!pip -q install --upgrade --force-reinstall --index-url https://test.pypi.org/simple/ --no-deps TerraYoloTest\n",
    "\n",
    "# Create a working directory\n",
    "TRAIN_DIR = '/content/my_yolov5/'   # Store the full path to the folder in the TRAIN_DIR variable\n",
    "os.mkdir(TRAIN_DIR)                 # Create a new folder using the \"mkdir\" command\n",
    "\n",
    "# Download the dataset\n",
    "filezip = gdown.download('https://storage.yandexcloud.net/aiueducation/marketing/datasets/yolo.zip', None)\n",
    "\n",
    "# Unzip the archive into the working directory\n",
    "!unzip -q -o {filezip} -d {TRAIN_DIR}\n",
    "\n",
    "from TerraYoloTest.TerraYolo import TerraYoloV5  # Import the TerraYoloV5 class from the TerraYolo module of the TerraYoloTest package\n"
   ]
  },
  {
   "cell_type": "code",
   "execution_count": null,
   "id": "06a3693e-3c76-429f-8ab0-c744b3bccc08",
   "metadata": {},
   "outputs": [],
   "source": [
    "def view_dataset_directory():\n",
    "  files = os.listdir(TRAIN_DIR)\n",
    "  print('Directory Structure')\n",
    "  for f in files:\n",
    "    if os.path.isfile(f'{TRAIN_DIR}/{f}'):\n",
    "      print(f'   {f} - (file)')\n",
    "    elif os.path.isdir(f'{TRAIN_DIR}/{f}'):\n",
    "      print(f'   {f} - (directory)')\n",
    "\n",
    "  print()\n",
    "  # Check the number of files in the directories\n",
    "  print('Training Set: ')\n",
    "  print(f'Number of images: {len(os.listdir(TRAIN_DIR+\"train/images/\"))}')\n",
    "  print(f'Number of label files: {len(os.listdir(TRAIN_DIR+\"train/labels/\"))}')\n",
    "  print()\n",
    "  print('Validation Set: ')\n",
    "  print(f'Number of images: {len(os.listdir(TRAIN_DIR+\"valid/images/\"))}')\n",
    "  print(f'Number of label files: {len(os.listdir(TRAIN_DIR+\"valid/labels/\"))}')\n"
   ]
  },
  {
   "cell_type": "code",
   "execution_count": null,
   "id": "5aaabdc3-0e63-4c51-a736-7763430353ee",
   "metadata": {},
   "outputs": [],
   "source": [
    "# Viewing the dataset content\n",
    "view_dataset_directory()"
   ]
  },
  {
   "cell_type": "code",
   "execution_count": null,
   "id": "e27ad839-0d56-4311-af8f-2480c01c09bf",
   "metadata": {},
   "outputs": [],
   "source": [
    "# Creating an instance of the my_terra_yolov5 class\n",
    "my_terra_yolov5 = TerraYoloV5(work_dir=TRAIN_DIR)"
   ]
  },
  {
   "cell_type": "code",
   "execution_count": null,
   "id": "3ed647be-4abd-4b55-8464-7f9196956523",
   "metadata": {},
   "outputs": [],
   "source": [
    "# Checking the number of objects in the dataset\n",
    "my_terra_yolov5.count_labels(yaml_path = f'{TRAIN_DIR}/dataset.yaml')"
   ]
  },
  {
   "cell_type": "code",
   "execution_count": null,
   "id": "b99c7ec8-14e2-40e6-8a04-71958e1251c6",
   "metadata": {},
   "outputs": [],
   "source": [
    "# Creating a dictionary for model training\n",
    "train_dict=dict()\n",
    "train_dict['epochs'] = 10\n",
    "train_dict['data'] = f'{TRAIN_DIR}/dataset.yaml' #path to the dataset description"
   ]
  },
  {
   "cell_type": "code",
   "execution_count": null,
   "id": "68a68aeb-3e1c-43cc-9790-06914920a81e",
   "metadata": {},
   "outputs": [],
   "source": [
    "# Initiating the training process\n",
    "my_terra_yolov5.run(train_dict, exp_type='train')"
   ]
  },
  {
   "cell_type": "code",
   "execution_count": null,
   "id": "e472311e-d6c7-45d4-8586-0c851e56e78a",
   "metadata": {},
   "outputs": [],
   "source": [
    "# Creating a dictionary for testing images\n",
    "test_dict = dict()\n",
    "test_dict['source'] = TRAIN_DIR+'/valid/images/'\n",
    "test_dict['conf'] = 0.5 # object detection probability threshold\n",
    "test_dict['weights'] = my_terra_yolov5.exp_dict['train'][ #path to the model weights\n",
    "                                            'last_exp_path']+'/weights/best.pt'\n",
    "\n",
    "my_terra_yolov5.run(test_dict, exp_type='test')"
   ]
  },
  {
   "cell_type": "code",
   "execution_count": null,
   "id": "b9c88444-e190-43b0-aebf-d7cfa0db7e75",
   "metadata": {},
   "outputs": [],
   "source": [
    "# Testing the image\n",
    "my_terra_yolov5.show_test_images(n_samples=3, img_dir=None) #show n_samples images"
   ]
  },
  {
   "cell_type": "code",
   "execution_count": null,
   "id": "36c4dc5d-bd29-49f6-90aa-33a59cac29f9",
   "metadata": {},
   "outputs": [],
   "source": [
    "# Updating the dictionary for model training\n",
    "train_dict['weights'] = my_terra_yolov5.exp_dict['train'][\n",
    "                                            'last_exp_path']+'/weights/last.pt' #weights of the last epoch\n",
    "\n",
    "my_terra_yolov5.run(train_dict, exp_type='train') #run the train script with the train_dict parameters"
   ]
  },
  {
   "cell_type": "code",
   "execution_count": null,
   "id": "89044d50-a318-4b92-8d0e-50fff4f1de57",
   "metadata": {},
   "outputs": [],
   "source": [
    "#path to the best model weights\n",
    "test_dict['weights'] = my_terra_yolov5.exp_dict['train'][\n",
    "                                            'last_exp_path']+'/weights/best.pt'\n",
    "\n",
    "print(test_dict['weights']) # check the full path\n",
    "my_terra_yolov5.run(test_dict, exp_type='test') #run the test script with the test_dict parameters"
   ]
  },
  {
   "cell_type": "code",
   "execution_count": null,
   "id": "2ea4a28f-1348-473e-88c8-69096d9cc8a3",
   "metadata": {},
   "outputs": [],
   "source": [
    "my_terra_yolov5.show_test_images(n_samples=3)"
   ]
  }
 ],
 "metadata": {
  "kernelspec": {
   "display_name": "Python 3 (ipykernel)",
   "language": "python",
   "name": "python3"
  },
  "language_info": {
   "codemirror_mode": {
    "name": "ipython",
    "version": 3
   },
   "file_extension": ".py",
   "mimetype": "text/x-python",
   "name": "python",
   "nbconvert_exporter": "python",
   "pygments_lexer": "ipython3",
   "version": "3.9.13"
  }
 },
 "nbformat": 4,
 "nbformat_minor": 5
}
